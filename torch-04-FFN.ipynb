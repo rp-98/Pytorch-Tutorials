{
 "cells": [
  {
   "cell_type": "code",
   "execution_count": 1,
   "metadata": {},
   "outputs": [],
   "source": [
    "import torch\n",
    "import torch.nn as nn\n",
    "import torchvision\n",
    "import torchvision.transforms as transforms"
   ]
  },
  {
   "cell_type": "code",
   "execution_count": 12,
   "metadata": {},
   "outputs": [],
   "source": [
    "# Device configuration\n",
    "device = torch.device('cpu')"
   ]
  },
  {
   "cell_type": "code",
   "execution_count": 14,
   "metadata": {},
   "outputs": [],
   "source": [
    "# Hyper-parameters \n",
    "input_size = 784\n",
    "hidden_size = 500\n",
    "num_classes = 10\n",
    "num_epochs = 5\n",
    "batch_size = 100\n",
    "learning_rate = 0.001\n"
   ]
  },
  {
   "cell_type": "code",
   "execution_count": 15,
   "metadata": {},
   "outputs": [],
   "source": [
    "# MNIST dataset \n",
    "train_dataset = torchvision.datasets.MNIST(root='../../data', \n",
    "                                           train=True, \n",
    "                                           transform=transforms.ToTensor(),  \n",
    "                                           download=True)\n",
    "\n",
    "test_dataset = torchvision.datasets.MNIST(root='../../data', \n",
    "                                          train=False, \n",
    "                                          transform=transforms.ToTensor())\n",
    "\n",
    "# Data loader\n",
    "train_loader = torch.utils.data.DataLoader(dataset=train_dataset, \n",
    "                                           batch_size=batch_size, \n",
    "                                           shuffle=True)\n",
    "\n",
    "test_loader = torch.utils.data.DataLoader(dataset=test_dataset, \n",
    "                                          batch_size=batch_size, \n",
    "                                          shuffle=False)"
   ]
  },
  {
   "cell_type": "code",
   "execution_count": 16,
   "metadata": {},
   "outputs": [],
   "source": [
    "# Fully connected neural network with one hidden layer\n",
    "class NeuralNet(nn.Module):\n",
    "    def __init__(self, input_size, hidden_size, num_classes):\n",
    "        super(NeuralNet, self).__init__()\n",
    "        self.fc1 = nn.Linear(input_size, hidden_size) \n",
    "        self.relu = nn.ReLU()\n",
    "        self.fc2 = nn.Linear(hidden_size, num_classes)  \n",
    "    \n",
    "    def forward(self, x):\n",
    "        out = self.fc1(x)\n",
    "        out = self.relu(out)\n",
    "        out = self.fc2(out)\n",
    "        return out"
   ]
  },
  {
   "cell_type": "code",
   "execution_count": 17,
   "metadata": {},
   "outputs": [],
   "source": [
    "model = NeuralNet(input_size, hidden_size, num_classes).to(device)"
   ]
  },
  {
   "cell_type": "code",
   "execution_count": 18,
   "metadata": {},
   "outputs": [],
   "source": [
    "# Loss and optimizer\n",
    "criterion = nn.CrossEntropyLoss()\n",
    "optimizer = torch.optim.Adam(model.parameters(), lr=learning_rate)  "
   ]
  },
  {
   "cell_type": "code",
   "execution_count": 19,
   "metadata": {},
   "outputs": [
    {
     "name": "stdout",
     "output_type": "stream",
     "text": [
      "Epoch [1/5], Step [100/600], Loss: 0.3907\n",
      "Epoch [1/5], Step [200/600], Loss: 0.3201\n",
      "Epoch [1/5], Step [300/600], Loss: 0.2630\n",
      "Epoch [1/5], Step [400/600], Loss: 0.1845\n",
      "Epoch [1/5], Step [500/600], Loss: 0.3036\n",
      "Epoch [1/5], Step [600/600], Loss: 0.1418\n",
      "Epoch [2/5], Step [100/600], Loss: 0.1454\n",
      "Epoch [2/5], Step [200/600], Loss: 0.0912\n",
      "Epoch [2/5], Step [300/600], Loss: 0.1384\n",
      "Epoch [2/5], Step [400/600], Loss: 0.1227\n",
      "Epoch [2/5], Step [500/600], Loss: 0.1278\n",
      "Epoch [2/5], Step [600/600], Loss: 0.1001\n",
      "Epoch [3/5], Step [100/600], Loss: 0.0635\n",
      "Epoch [3/5], Step [200/600], Loss: 0.0502\n",
      "Epoch [3/5], Step [300/600], Loss: 0.1588\n",
      "Epoch [3/5], Step [400/600], Loss: 0.0815\n",
      "Epoch [3/5], Step [500/600], Loss: 0.0567\n",
      "Epoch [3/5], Step [600/600], Loss: 0.0877\n",
      "Epoch [4/5], Step [100/600], Loss: 0.0424\n",
      "Epoch [4/5], Step [200/600], Loss: 0.0214\n",
      "Epoch [4/5], Step [300/600], Loss: 0.0386\n",
      "Epoch [4/5], Step [400/600], Loss: 0.0124\n",
      "Epoch [4/5], Step [500/600], Loss: 0.0654\n",
      "Epoch [4/5], Step [600/600], Loss: 0.0529\n",
      "Epoch [5/5], Step [100/600], Loss: 0.0410\n",
      "Epoch [5/5], Step [200/600], Loss: 0.0246\n",
      "Epoch [5/5], Step [300/600], Loss: 0.0346\n",
      "Epoch [5/5], Step [400/600], Loss: 0.0409\n",
      "Epoch [5/5], Step [500/600], Loss: 0.0573\n",
      "Epoch [5/5], Step [600/600], Loss: 0.0516\n"
     ]
    }
   ],
   "source": [
    "# Train the model\n",
    "total_step = len(train_loader)\n",
    "for epoch in range(num_epochs):\n",
    "    for i, (images, labels) in enumerate(train_loader):  \n",
    "        # Move tensors to the configured device\n",
    "        images = images.reshape(-1, 28*28).to(device)\n",
    "        labels = labels.to(device)\n",
    "        \n",
    "        # Forward pass\n",
    "        outputs = model(images)\n",
    "        loss = criterion(outputs, labels)\n",
    "        \n",
    "        # Backward and optimize\n",
    "        optimizer.zero_grad()\n",
    "        loss.backward()\n",
    "        optimizer.step()\n",
    "        \n",
    "        if (i+1) % 100 == 0:\n",
    "            print ('Epoch [{}/{}], Step [{}/{}], Loss: {:.4f}' \n",
    "                   .format(epoch+1, num_epochs, i+1, total_step, loss.item()))"
   ]
  },
  {
   "cell_type": "code",
   "execution_count": null,
   "metadata": {},
   "outputs": [],
   "source": []
  }
 ],
 "metadata": {
  "kernelspec": {
   "display_name": "Python 3",
   "language": "python",
   "name": "python3"
  },
  "language_info": {
   "codemirror_mode": {
    "name": "ipython",
    "version": 3
   },
   "file_extension": ".py",
   "mimetype": "text/x-python",
   "name": "python",
   "nbconvert_exporter": "python",
   "pygments_lexer": "ipython3",
   "version": "3.8.3"
  }
 },
 "nbformat": 4,
 "nbformat_minor": 4
}
